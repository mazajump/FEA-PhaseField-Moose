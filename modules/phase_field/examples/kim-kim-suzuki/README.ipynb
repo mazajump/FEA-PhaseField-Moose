{
 "cells": [
  {
   "cell_type": "markdown",
   "metadata": {},
   "source": [
    "# Kim-Kim-Suzuki Model Interfacial Energy\n",
    "One advantage of the Kim-Kim-Suzuki model is that the interfacial energy is independent of the bulk phase free energies, and can be found analytically from the model parameters. Using Eq. (52) from Ref. [1], for a 1D equilibrium interface,\n",
    "\n",
    "$$\n",
    "\\sigma = \\frac{\\epsilon \\sqrt{w}}{3\\sqrt{2}}\n",
    "$$\n",
    "\n",
    "where $\\sigma$ is the interfacial energy, $\\epsilon^2$ is the gradient energy coefficient, and $w$ is the free energy barrier height. \n",
    "\n",
    "In the example `kks_example_noflux.i`, a flat interface between a bulk solid phase with $c_S^e = 0.9$ and a bulk liquid phase with $c_L^e = 0.1$ is equilibrated. In this case, $\\epsilon^2 = 1$ and $w=1$. Calculate $\\sigma$:"
   ]
  },
  {
   "cell_type": "code",
   "execution_count": 1,
   "metadata": {
    "collapsed": false
   },
   "outputs": [],
   "source": [
    "from math import sqrt\n",
    "eps_sq = 1.0\n",
    "w = 1\n",
    "sigma = sqrt(eps_sq)*sqrt(w)/3/sqrt(2)"
   ]
  },
  {
   "cell_type": "markdown",
   "metadata": {},
   "source": [
    "Display $\\sigma$:"
   ]
  },
  {
   "cell_type": "code",
   "execution_count": 2,
   "metadata": {
    "collapsed": false
   },
   "outputs": [
    {
     "data": {
      "text/plain": [
       "0.2357022603955158"
      ]
     },
     "execution_count": 2,
     "metadata": {},
     "output_type": "execute_result"
    }
   ],
   "source": [
    "sigma"
   ]
  },
  {
   "cell_type": "markdown",
   "metadata": {},
   "source": [
    "# References\n",
    "\n",
    "[1] S.G. Kim, W.T. Kim, T. Suzuki, Physical Review E, 60, 6, 7186-7197 (1999).\n"
   ]
  }
 ],
 "metadata": {
  "kernelspec": {
   "display_name": "Python 2",
   "language": "python",
   "name": "python2"
  },
  "language_info": {
   "codemirror_mode": {
    "name": "ipython",
    "version": 2
   },
   "file_extension": ".py",
   "mimetype": "text/x-python",
   "name": "python",
   "nbconvert_exporter": "python",
   "pygments_lexer": "ipython2",
   "version": "2.7.10"
  }
 },
 "nbformat": 4,
 "nbformat_minor": 0
}
