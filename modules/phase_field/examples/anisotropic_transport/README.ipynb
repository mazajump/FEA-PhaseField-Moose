{
 "cells": [
  {
   "cell_type": "markdown",
   "metadata": {},
   "source": [
    "# Rotate mobility tensors\n",
    "Anisotropic mobility tensors can be rotated to arbitrary directions buy multiplying it with a rotation matrix $R$. \n",
    "$$\n",
    "M_{rot} = R \\cdot M \\cdot R^T\n",
    "$$"
   ]
  },
  {
   "cell_type": "code",
   "execution_count": 1,
   "metadata": {
    "collapsed": true
   },
   "outputs": [],
   "source": [
    "import numpy as np\n",
    "from math import sin, cos, pi"
   ]
  },
  {
   "cell_type": "markdown",
   "metadata": {},
   "source": [
    "In this example we construct a rotation matrix that rotates counter-clockwise around the z-axis by $45^o$."
   ]
  },
  {
   "cell_type": "code",
   "execution_count": 2,
   "metadata": {
    "collapsed": false
   },
   "outputs": [],
   "source": [
    "a = 45.0*pi/180.0"
   ]
  },
  {
   "cell_type": "code",
   "execution_count": 3,
   "metadata": {
    "collapsed": false
   },
   "outputs": [],
   "source": [
    "Rz = [[cos(a),-sin(a),0],\n",
    "      [sin(a),cos(a),0],\n",
    "      [0,0,0]]\n",
    "\n",
    "M = [[1, 0 ,0],\n",
    "     [0,.01,0],\n",
    "     [0, 0 ,0]]"
   ]
  },
  {
   "cell_type": "markdown",
   "metadata": {},
   "source": [
    "Compute the rotated tensor $(R_z\\cdot M)\\cdot R_z^T$ "
   ]
  },
  {
   "cell_type": "code",
   "execution_count": 4,
   "metadata": {
    "collapsed": false
   },
   "outputs": [],
   "source": [
    "Mrot = np.dot(np.dot(Rz,M),np.transpose(Rz))"
   ]
  },
  {
   "cell_type": "markdown",
   "metadata": {},
   "source": [
    "The rotated tensor is then used as the ```tensor``` argument in the ```ConstantAnisotropicMobility``` material."
   ]
  },
  {
   "cell_type": "code",
   "execution_count": 5,
   "metadata": {
    "collapsed": false
   },
   "outputs": [
    {
     "name": "stdout",
     "output_type": "stream",
     "text": [
      "0.505 0.495 0.0\n",
      "0.495 0.505 0.0\n",
      "0.0 0.0 0.0\n"
     ]
    }
   ],
   "source": [
    "for l in [' '.join(map(str,a)) for a in Mrot]:\n",
    "    print l"
   ]
  }
 ],
 "metadata": {
  "kernelspec": {
   "display_name": "Python 2",
   "language": "python",
   "name": "python2"
  },
  "language_info": {
   "codemirror_mode": {
    "name": "ipython",
    "version": 2
   },
   "file_extension": ".py",
   "mimetype": "text/x-python",
   "name": "python",
   "nbconvert_exporter": "python",
   "pygments_lexer": "ipython2",
   "version": "2.7.10"
  }
 },
 "nbformat": 4,
 "nbformat_minor": 0
}
